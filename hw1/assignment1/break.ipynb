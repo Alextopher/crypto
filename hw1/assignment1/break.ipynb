{
 "cells": [
  {
   "cell_type": "code",
   "execution_count": 3,
   "metadata": {},
   "outputs": [],
   "source": [
    "cipher = \"\".join(open(\"input.txt\").readlines())"
   ]
  },
  {
   "cell_type": "code",
   "execution_count": 4,
   "metadata": {},
   "outputs": [
    {
     "name": "stdout",
     "output_type": "stream",
     "text": [
      "A B C D E F G H I K M N O P Q R S T U W X Y Z\n",
      "O T F B P M D X V S C N E H I W L G U Y A K R\n",
      "YOUAREREADINGTHEPLAINTEXTMESSA GEOFOURFIRSTASSIGNMENTINCRYPTO GRAPHYFORTHEFIRSTPARTOFTHISASS IGNMENTEMAILTHISPLAINTEXTFILEA NDDESCRIBETHESUBSTITUTIONCIPHE RUSEDFORENCRYPTIONFORTHESECOND PARTIMPLEMENTADIFFERENTSECRETK EYENCRYPTIONANDDECRYPTIONSCHEM EFORTEXTFILESANDSUBMITYOURSOUR CEALONGWITHDOCUMENTATIONANDTES TINGFORYOURIMPLEMENTATIONUSING APROGRAMMINGLANGUAGEOFYOURCHOI CEFORTHETHIRDPARTDETERMINETHES TATISTICALPROFILESOFENGLISHAND ANOTHERLANGUAGEBYWRITINGAPROGR AMTOCOMPUTETHEIRENTROPIESOVERA LARGETEXTCORPUSDOESTHESECONDLA NGUAGEHAVEAHIGHERENTROPYTHANEN GLISHTHISASSIGNMENTISDUEBYTHEM IDDLEOFFEBRUARY\n"
     ]
    }
   ],
   "source": [
    "# These were found by hand\n",
    "result = [\"OE\", \"BT\", \"QI\", \"ZR\", \"NN\", \"XA\", \"AO\", \"KS\", \"PH\", \"TG\", \"UU\", \"GD\", \"CF\", \"FM\", \"SL\", \"MC\", \"WY\", \"HX\", \"EP\", \"RW\", \"DB\", \"IV\", \"YK\"]\n",
    "\n",
    "# Sort by first letter\n",
    "result = sorted(result, key=lambda x: x[0])\n",
    "\n",
    "# Print out the result\n",
    "print(\" \".join([_[0] for _ in result]))\n",
    "print(\" \".join([_[1] for _ in result]))\n",
    "\n",
    "MAP = {}\n",
    "\n",
    "for [f, t] in result:\n",
    "    MAP[f] = t\n",
    "\n",
    "print(\"\".join([MAP[c] if c in MAP else \" \" for c in cipher]))"
   ]
  }
 ],
 "metadata": {
  "language_info": {
   "name": "python"
  },
  "orig_nbformat": 4
 },
 "nbformat": 4,
 "nbformat_minor": 2
}
