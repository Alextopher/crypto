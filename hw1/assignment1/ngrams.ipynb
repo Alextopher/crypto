{
 "cells": [
  {
   "cell_type": "code",
   "execution_count": 1,
   "metadata": {},
   "outputs": [],
   "source": [
    "cipher = \"\".join(open(\"input.txt\").readlines())\n",
    "shakespeare = \"\".join(open(\"shakespeare.txt\").readlines())\n",
    "alphabet = \"ABCDEFGHIJKLMNOPQRSTUVWXYZ\""
   ]
  },
  {
   "cell_type": "code",
   "execution_count": 2,
   "metadata": {},
   "outputs": [],
   "source": [
    "from string import whitespace\n",
    "\n",
    "def ngrams(text):\n",
    "    letters, bigrams, trigrams, quadgrams = {}, {}, {}, {}\n",
    "\n",
    "    a, b, c, d = \"\", \"\", \"\", \"\"\n",
    "    for char in text:\n",
    "        char = char.upper()\n",
    "        if char in whitespace or char not in \"ABCDEFGHIJKLMNOPQRSTUVWXYZ\":\n",
    "            continue\n",
    "\n",
    "        a, b, c = b, c, d\n",
    "        d = char\n",
    "\n",
    "        if d not in letters:\n",
    "            letters[d] = 0\n",
    "        letters[d] += 1\n",
    "\n",
    "        if c+d not in bigrams:\n",
    "            bigrams[c+d] = 0\n",
    "        bigrams[c+d] += 1\n",
    "\n",
    "        if b+c+d not in trigrams:\n",
    "            trigrams[b+c+d] = 0\n",
    "        trigrams[b+c+d] += 1\n",
    "\n",
    "        if a+b+c+d not in quadgrams:\n",
    "            quadgrams[a+b+c+d] = 0\n",
    "        quadgrams[a+b+c+d] += 1\n",
    "\n",
    "    letters_total = sum(letters.values())\n",
    "    bigrams_total = sum(bigrams.values())\n",
    "    trigrams_total = sum(trigrams.values())\n",
    "    quadgrams_total = sum(quadgrams.values())\n",
    "\n",
    "    for k in letters:\n",
    "        letters[k] /= letters_total\n",
    "\n",
    "    for k in bigrams:\n",
    "        bigrams[k] /= bigrams_total\n",
    "\n",
    "    for k in trigrams:\n",
    "        trigrams[k] /= trigrams_total\n",
    "\n",
    "    for k in quadgrams:\n",
    "        quadgrams[k] /= quadgrams_total\n",
    "\n",
    "    letters = sorted(letters.items(), key=lambda x: x[1], reverse=True)\n",
    "    bigrams = sorted(bigrams.items(), key=lambda x: x[1], reverse=True)\n",
    "    trigrams = sorted(trigrams.items(), key=lambda x: x[1], reverse=True)\n",
    "    quadgrams = sorted(quadgrams.items(), key=lambda x: x[1], reverse=True)\n",
    "\n",
    "    return letters, bigrams, trigrams, quadgrams"
   ]
  },
  {
   "cell_type": "code",
   "execution_count": 3,
   "metadata": {},
   "outputs": [],
   "source": [
    "SHAKESPEARE_NGRAMS = ngrams(shakespeare)\n",
    "CIPHER_NGRAMS = ngrams(cipher)"
   ]
  },
  {
   "cell_type": "code",
   "execution_count": 4,
   "metadata": {},
   "outputs": [
    {
     "data": {
      "text/plain": [
       "[('E', 11.9),\n",
       " ('T', 8.7),\n",
       " ('O', 8.2),\n",
       " ('A', 7.7),\n",
       " ('I', 6.7),\n",
       " ('S', 6.6),\n",
       " ('N', 6.4),\n",
       " ('H', 6.3),\n",
       " ('R', 6.2),\n",
       " ('L', 4.5),\n",
       " ('D', 3.9),\n",
       " ('U', 3.4),\n",
       " ('M', 2.9),\n",
       " ('Y', 2.5),\n",
       " ('W', 2.4),\n",
       " ('C', 2.3),\n",
       " ('F', 2.1),\n",
       " ('G', 1.8),\n",
       " ('B', 1.6),\n",
       " ('P', 1.5),\n",
       " ('V', 1.0),\n",
       " ('K', 0.9),\n",
       " ('X', 0.1),\n",
       " ('J', 0.1),\n",
       " ('Q', 0.1),\n",
       " ('Z', 0.0)]"
      ]
     },
     "execution_count": 4,
     "metadata": {},
     "output_type": "execute_result"
    }
   ],
   "source": [
    "[(a, round(100 * n, 1)) for (a, n) in SHAKESPEARE_NGRAMS[0]]"
   ]
  },
  {
   "cell_type": "code",
   "execution_count": 5,
   "metadata": {},
   "outputs": [
    {
     "data": {
      "text/plain": [
       "[('O', 11.8),\n",
       " ('B', 9.9),\n",
       " ('Q', 8.0),\n",
       " ('Z', 7.7),\n",
       " ('N', 7.5),\n",
       " ('X', 7.0),\n",
       " ('A', 6.8),\n",
       " ('K', 6.0),\n",
       " ('P', 4.3),\n",
       " ('T', 3.9),\n",
       " ('E', 3.4),\n",
       " ('U', 3.2),\n",
       " ('G', 3.2),\n",
       " ('C', 3.2),\n",
       " ('F', 3.1),\n",
       " ('S', 2.9),\n",
       " ('M', 2.9),\n",
       " ('W', 2.4),\n",
       " ('D', 1.0),\n",
       " ('H', 0.7),\n",
       " ('R', 0.3),\n",
       " ('I', 0.3),\n",
       " ('Y', 0.2)]"
      ]
     },
     "execution_count": 5,
     "metadata": {},
     "output_type": "execute_result"
    }
   ],
   "source": [
    "[(a, round(100 * n, 1)) for (a, n) in CIPHER_NGRAMS[0]]"
   ]
  },
  {
   "cell_type": "code",
   "execution_count": 6,
   "metadata": {},
   "outputs": [
    {
     "name": "stdout",
     "output_type": "stream",
     "text": [
      "ERE 0.3\n",
      "EVE 0.1\n",
      "ESE 0.1\n",
      "EHE 0.1\n",
      "EME 0.1\n",
      "ENE 0.1\n",
      "EBE 0.1\n",
      "EWE 0.1\n",
      "EDE 0.1\n",
      "ELE 0.1\n",
      "EYE 0.0\n",
      "EXE 0.0\n",
      "ETE 0.0\n",
      "EPE 0.0\n",
      "ECE 0.0\n",
      "EGE 0.0\n",
      "EFE 0.0\n",
      "EKE 0.0\n",
      "EJE 0.0\n",
      "EEE 0.0\n",
      "EOE 0.0\n",
      "EAE 0.0\n",
      "EZE 0.0\n",
      "EIE 0.0\n",
      "EUE 0.0\n"
     ]
    }
   ],
   "source": [
    "for (s, p) in SHAKESPEARE_NGRAMS[2]:\n",
    "    if s[0] == \"E\" and s[2] == \"E\" :\n",
    "        print(s, round(p * 100, 1))"
   ]
  },
  {
   "cell_type": "code",
   "execution_count": 7,
   "metadata": {},
   "outputs": [
    {
     "name": "stdout",
     "output_type": "stream",
     "text": [
      "KK 0.006837606837606838\n",
      "GG 0.005128205128205128\n",
      "CC 0.003418803418803419\n",
      "FF 0.0017094017094017094\n",
      "---------------------\n",
      "LL 0.008239358137315904\n",
      "EE 0.00582189749330762\n",
      "TT 0.004986627860748007\n",
      "SS 0.0045022270070514524\n",
      "OO 0.003449620670462276\n",
      "RR 0.0013456701151935016\n",
      "FF 0.0012257689137834635\n",
      "DD 0.0008516771653841445\n",
      "NN 0.000812046663023353\n",
      "HH 0.0006128844568917318\n",
      "PP 0.0005762830375139306\n",
      "MM 0.0005677006357287911\n",
      "II 0.0005167110721817854\n",
      "YY 0.0003889847397323553\n",
      "AA 0.00024131694431157148\n",
      "GG 0.00021582216253806862\n",
      "CC 0.00020597764284334972\n",
      "WW 0.00020572521926143385\n",
      "BB 0.00010273639783975898\n",
      "UU 3.988292594270742e-05\n",
      "XX 2.3222969536260018e-05\n",
      "ZZ 1.3378449841541097e-05\n",
      "KK 1.1611484768130009e-05\n"
     ]
    }
   ],
   "source": [
    "for (cs, cp) in CIPHER_NGRAMS[1]:\n",
    "    if len(cs) >= 2 and cs[0] == cs[1]:\n",
    "        print(cs, cp)\n",
    "\n",
    "print(\"---------------------\")\n",
    "\n",
    "for (ss, sp) in SHAKESPEARE_NGRAMS[1]:\n",
    "    if len(ss) >= 2 and ss[0] == ss[1]:\n",
    "        print(ss, sp)"
   ]
  }
 ],
 "metadata": {
  "interpreter": {
   "hash": "aee8b7b246df8f9039afb4144a1f6fd8d2ca17a180786b69acc140d282b71a49"
  },
  "kernelspec": {
   "display_name": "Python 3.9.9 64-bit",
   "language": "python",
   "name": "python3"
  },
  "language_info": {
   "codemirror_mode": {
    "name": "ipython",
    "version": 3
   },
   "file_extension": ".py",
   "mimetype": "text/x-python",
   "name": "python",
   "nbconvert_exporter": "python",
   "pygments_lexer": "ipython3",
   "version": "3.9.10"
  },
  "orig_nbformat": 4
 },
 "nbformat": 4,
 "nbformat_minor": 2
}
